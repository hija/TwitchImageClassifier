{
 "cells": [
  {
   "cell_type": "markdown",
   "metadata": {},
   "source": [
    "# Twitch Image Classifier\n",
    "Originally, I did a project in the data analysis class in which we classified twitch images according to the shown game. Back then, we used SVMs and transfered learning.\n",
    "Now, I want to do this project again - this time building my own network architecture. My goal is to get at least 80% accuracy.\n",
    "\n",
    "## Setup\n",
    "Please add the twitch images to the data directory. If you do not have any preview images, then you can use my twitch preview image crawler, which is also available on my github.\n",
    "\n",
    "The following directory structure should be present\n",
    "\n",
    "data/training/Game1/...\n",
    "\n",
    "data/training/Game2/...\n",
    "\n",
    "data/training/Game...\n",
    "\n",
    "data/validation/Game1/...\n",
    "\n",
    "data/validation/Game2/...\n",
    "\n",
    "data/validataion/Game..."
   ]
  },
  {
   "cell_type": "markdown",
   "metadata": {},
   "source": [
    "## Code\n",
    "\n",
    "### Check for networkx version\n",
    "For hyperas networkx version 1.11 is required. Thus, we need to check this first!"
   ]
  },
  {
   "cell_type": "code",
   "execution_count": null,
   "metadata": {},
   "outputs": [],
   "source": [
    "import networkx\n",
    "\n",
    "assert networkx.__version__ == '1.11', 'You need to install networkx version 1.11, otherwise hyperas does not work'"
   ]
  },
  {
   "cell_type": "markdown",
   "metadata": {},
   "source": [
    "### Check directory structure\n",
    "In the first step we'll just check, if the right directory structure is present. This will hopefully save some time, if I work on this later again and I need to setup the environment again."
   ]
  },
  {
   "cell_type": "code",
   "execution_count": null,
   "metadata": {},
   "outputs": [],
   "source": [
    "import os\n",
    "import glob\n",
    "\n",
    "# First check if data directory is present. This should be the case anyways, since this is set in the git repository,\n",
    "# but we'll check :)\n",
    "\n",
    "assert os.path.isdir('data'), 'The data directory is not present, but mandatory'\n",
    "\n",
    "# Check if training and validation is present\n",
    "assert os.path.isdir('data/training'), 'The training directory in the data directory is not present, but mandatory'\n",
    "assert os.path.isdir('data/validation'), 'The validation directory in the data directory is not present, but mandatory'\n",
    "\n",
    "# Check how many directories (== Games) there are in training and validation\n",
    "training_games = [game for game in os.listdir(\"data/training/\") if os.path.isdir('data/training/{}'.format(game))]\n",
    "validation_games = [game for game in os.listdir(\"data/validation/\") if os.path.isdir('data/validation/{}'.format(game))]\n",
    "assert training_games == validation_games, 'The games must be the same in training and validation'\n",
    "\n",
    "# Check how many games there are\n",
    "assert len(training_games) >= 1, 'You need to add at least one game'\n",
    "assert len(training_games) >= 2, 'For a real classification scenario you should add more than one game'\n",
    "\n",
    "# Determine training and validation sample size\n",
    "training_samples = len([name for name in glob.glob('data/training/*/*') if os.path.isfile(name)])\n",
    "validation_samples = len([name for name in glob.glob('data/validation/*/*') if os.path.isfile(name)])\n",
    "assert training_samples > validation_samples, 'You should use more training samples than validation samples'\n",
    "assert training_samples > 32, 'You should use at least 32 files'"
   ]
  },
  {
   "cell_type": "markdown",
   "metadata": {},
   "source": [
    "## Imports and Modeldefinition"
   ]
  },
  {
   "cell_type": "code",
   "execution_count": null,
   "metadata": {},
   "outputs": [],
   "source": [
    "from hyperopt import Trials, STATUS_OK, tpe\n",
    "from hyperas import optim\n",
    "from hyperas.distributions import uniform\n",
    "from keras.models import Sequential\n",
    "from keras.layers.core import Dense, Dropout, Activation, Flatten\n",
    "from keras.layers import Conv2D, MaxPooling2D\n",
    "from keras.optimizers import SGD\n",
    "from keras.preprocessing.image import ImageDataGenerator\n",
    "from keras.datasets import cifar10\n",
    "from keras.utils import np_utils"
   ]
  },
  {
   "cell_type": "code",
   "execution_count": null,
   "metadata": {},
   "outputs": [],
   "source": [
    "def model(train_generator, validation_generator):\n",
    "    img_width, img_height = 320, 180\n",
    "    epochs = 10\n",
    "    batch_size = 256\n",
    "    nb_classes = 10\n",
    "    \n",
    "    training_steps = training_samples // 32\n",
    "    validation_steps = validation_samples // 32\n",
    "    \n",
    "    input_shape = (img_width, img_height, 3)\n",
    "    \n",
    "    model = Sequential()\n",
    "    model.add(Conv2D(32, (3, 3), input_shape=input_shape))\n",
    "    model.add(Activation('relu'))\n",
    "    model.add(MaxPooling2D(pool_size=(2, 2)))\n",
    "\n",
    "    model.add(Conv2D(32, (3, 3)))\n",
    "    model.add(Activation('relu'))\n",
    "    model.add(MaxPooling2D(pool_size=(2, 2)))\n",
    "\n",
    "    model.add(Flatten())\n",
    "    model.add(Dense(64))\n",
    "    model.add(Activation('relu'))\n",
    "    model.add(Dropout({{uniform(0, 1)}}))\n",
    "    model.add(Dense(10))\n",
    "    model.add(Activation('sigmoid'))\n",
    "    model.compile(loss=['categorical_crossentropy'],\n",
    "                  optimizer='adam',\n",
    "                  metrics=['accuracy'])\n",
    "\n",
    "    model.fit_generator(\n",
    "        train_generator,\n",
    "        steps_per_epoch=training_steps,\n",
    "        epochs=epochs,\n",
    "        validation_data=validation_generator,\n",
    "        validation_steps=validation_steps)\n",
    "\n",
    "    score, acc = model.evaluate_generator(validation_generator)\n",
    "\n",
    "    return {'loss': -acc, 'status': STATUS_OK, 'model': model}"
   ]
  },
  {
   "cell_type": "markdown",
   "metadata": {},
   "source": [
    "## Data Definition\n",
    "Here we define the data image size and the dataflows, so they can be used in the model."
   ]
  },
  {
   "cell_type": "code",
   "execution_count": null,
   "metadata": {
    "scrolled": true
   },
   "outputs": [],
   "source": [
    "def data():\n",
    "    img_width, img_height = 320, 180\n",
    "    batch_size = 32\n",
    "    train_data_dir = 'data/training'\n",
    "    validation_data_dir = 'data/validation'\n",
    "\n",
    "    test_datagen = ImageDataGenerator(\n",
    "        rescale=None)\n",
    "\n",
    "    train_datagen = ImageDataGenerator(\n",
    "        rescale=None)\n",
    "\n",
    "    train_generator = train_datagen.flow_from_directory(\n",
    "        train_data_dir,\n",
    "        target_size=(img_width, img_height),\n",
    "        batch_size=batch_size,\n",
    "        class_mode='categorical')\n",
    "\n",
    "    validation_generator = test_datagen.flow_from_directory(\n",
    "        validation_data_dir,\n",
    "        target_size=(img_width, img_height),\n",
    "        batch_size=batch_size,\n",
    "        class_mode='categorical')\n",
    "\n",
    "    return train_generator, validation_generator\n"
   ]
  },
  {
   "cell_type": "markdown",
   "metadata": {},
   "source": [
    "## Main-Loop\n",
    "This is the main loop, starting keras with the hyperparameter optimization."
   ]
  },
  {
   "cell_type": "code",
   "execution_count": null,
   "metadata": {},
   "outputs": [],
   "source": [
    "if __name__ == '__main__':\n",
    "\n",
    "    a, b = data()\n",
    "    best_run, best_model = optim.minimize(model=model,\n",
    "                                          data=data,\n",
    "                                          algo=tpe.suggest,\n",
    "                                          max_evals=15,\n",
    "                                          trials=Trials(),\n",
    "                                          notebook_name='TwitchImageClassifier')\n",
    "    print(best_run)\n",
    "    print(best_model)"
   ]
  },
  {
   "cell_type": "code",
   "execution_count": null,
   "metadata": {},
   "outputs": [],
   "source": []
  }
 ],
 "metadata": {
  "kernelspec": {
   "display_name": "Python 3",
   "language": "python",
   "name": "python3"
  },
  "language_info": {
   "codemirror_mode": {
    "name": "ipython",
    "version": 3
   },
   "file_extension": ".py",
   "mimetype": "text/x-python",
   "name": "python",
   "nbconvert_exporter": "python",
   "pygments_lexer": "ipython3",
   "version": "3.6.3"
  }
 },
 "nbformat": 4,
 "nbformat_minor": 2
}
